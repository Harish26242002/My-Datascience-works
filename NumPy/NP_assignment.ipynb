{
 "cells": [
  {
   "cell_type": "code",
   "execution_count": 3,
   "id": "6fd24d28",
   "metadata": {},
   "outputs": [
    {
     "name": "stdout",
     "output_type": "stream",
     "text": [
      "Collecting numpy\n",
      "  Downloading numpy-2.3.2-cp313-cp313-win_amd64.whl.metadata (60 kB)\n",
      "Downloading numpy-2.3.2-cp313-cp313-win_amd64.whl (12.8 MB)\n",
      "   ---------------------------------------- 0.0/12.8 MB ? eta -:--:--\n",
      "   -------------------------------- ------- 10.5/12.8 MB 56.0 MB/s eta 0:00:01\n",
      "   ---------------------------------------- 12.8/12.8 MB 52.8 MB/s eta 0:00:00\n",
      "Installing collected packages: numpy\n",
      "Successfully installed numpy-2.3.2\n",
      "Note: you may need to restart the kernel to use updated packages.\n"
     ]
    },
    {
     "name": "stderr",
     "output_type": "stream",
     "text": [
      "  WARNING: The scripts f2py.exe and numpy-config.exe are installed in 'c:\\Users\\haris\\AppData\\Local\\Programs\\Python\\Python313\\Scripts' which is not on PATH.\n",
      "  Consider adding this directory to PATH or, if you prefer to suppress this warning, use --no-warn-script-location.\n",
      "\n",
      "[notice] A new release of pip is available: 24.3.1 -> 25.2\n",
      "[notice] To update, run: python.exe -m pip install --upgrade pip\n"
     ]
    }
   ],
   "source": [
    "pip install numpy\n"
   ]
  },
  {
   "cell_type": "code",
   "execution_count": 4,
   "id": "d8f336b7",
   "metadata": {},
   "outputs": [
    {
     "name": "stdout",
     "output_type": "stream",
     "text": [
      "Collecting pandas\n",
      "  Downloading pandas-2.3.2-cp313-cp313-win_amd64.whl.metadata (19 kB)\n",
      "Requirement already satisfied: numpy>=1.26.0 in c:\\users\\haris\\appdata\\local\\programs\\python\\python313\\lib\\site-packages (from pandas) (2.3.2)\n",
      "Requirement already satisfied: python-dateutil>=2.8.2 in c:\\users\\haris\\appdata\\roaming\\python\\python313\\site-packages (from pandas) (2.9.0.post0)\n",
      "Collecting pytz>=2020.1 (from pandas)\n",
      "  Downloading pytz-2025.2-py2.py3-none-any.whl.metadata (22 kB)\n",
      "Collecting tzdata>=2022.7 (from pandas)\n",
      "  Downloading tzdata-2025.2-py2.py3-none-any.whl.metadata (1.4 kB)\n",
      "Requirement already satisfied: six>=1.5 in c:\\users\\haris\\appdata\\roaming\\python\\python313\\site-packages (from python-dateutil>=2.8.2->pandas) (1.17.0)\n",
      "Downloading pandas-2.3.2-cp313-cp313-win_amd64.whl (11.0 MB)\n",
      "   ---------------------------------------- 0.0/11.0 MB ? eta -:--:--\n",
      "   ---------------------------------------- 11.0/11.0 MB 69.5 MB/s eta 0:00:00\n",
      "Downloading pytz-2025.2-py2.py3-none-any.whl (509 kB)\n",
      "Downloading tzdata-2025.2-py2.py3-none-any.whl (347 kB)\n",
      "Installing collected packages: pytz, tzdata, pandas\n",
      "Successfully installed pandas-2.3.2 pytz-2025.2 tzdata-2025.2\n",
      "Note: you may need to restart the kernel to use updated packages.\n"
     ]
    },
    {
     "name": "stderr",
     "output_type": "stream",
     "text": [
      "\n",
      "[notice] A new release of pip is available: 24.3.1 -> 25.2\n",
      "[notice] To update, run: python.exe -m pip install --upgrade pip\n"
     ]
    }
   ],
   "source": [
    "pip install pandas"
   ]
  },
  {
   "cell_type": "code",
   "execution_count": 90,
   "id": "b1c5d800",
   "metadata": {},
   "outputs": [],
   "source": [
    "import numpy as np\n",
    "\n",
    "# Manually created array: [Store ID, Sales, Customers, Inventory, Returns]\n",
    "rd = np.array([\n",
    "    [1, 25000, 300, 1200, 10],\n",
    "    [2, 32000, 450, 1500, 15],\n",
    "    [3, 28000, 380, 1100, 8],\n",
    "    [4, 41000, 500, 1600, 20],\n",
    "    [5, 35000, 420, 1400, 12],\n",
    "    [6, 27000, 360, 1300, 9],\n",
    "    [7, 39000, 480, 1700, 18],\n",
    "    [8, 30000, 400, 1250, 14],\n",
    "    [9, 45000, 550, 1800, 25],\n",
    "    [10, 33000, 410, 1450, 11]\n",
    "])"
   ]
  },
  {
   "cell_type": "code",
   "execution_count": 6,
   "id": "612061dc",
   "metadata": {},
   "outputs": [
    {
     "data": {
      "text/plain": [
       "array([[    1, 25000,   300,  1200,    10],\n",
       "       [    2, 32000,   450,  1500,    15],\n",
       "       [    3, 28000,   380,  1100,     8],\n",
       "       [    4, 41000,   500,  1600,    20],\n",
       "       [    5, 35000,   420,  1400,    12],\n",
       "       [    6, 27000,   360,  1300,     9],\n",
       "       [    7, 39000,   480,  1700,    18],\n",
       "       [    8, 30000,   400,  1250,    14],\n",
       "       [    9, 45000,   550,  1800,    25],\n",
       "       [   10, 33000,   410,  1450,    11]])"
      ]
     },
     "execution_count": 6,
     "metadata": {},
     "output_type": "execute_result"
    }
   ],
   "source": [
    "rd\n",
    "# Manually created array: [Store ID, Sales, Customers, Inventory, Returns]"
   ]
  },
  {
   "cell_type": "code",
   "execution_count": null,
   "id": "d9ca8838",
   "metadata": {},
   "outputs": [],
   "source": [
    "# ## Basic Performance Analysis\n",
    "# 1. What is the **total revenue** generated across all stores?\n",
    "# 2. Which store recorded the **highest sales**?\n",
    "# 3. Which store recorded the **lowest sales**?\n",
    "# 4. What is the **average daily sales** per store?\n",
    "# 5. How many stores achieved sales **above ₹35,000**?\n",
    "\n",
    "# ## Customer Insights\n",
    "# 6. Which store had the **highest customer footfall**?\n",
    "# 7. What is the **average number of customers** per store?\n",
    "# 8. How many stores have **more than 450 customers**?\n",
    "# 9. Which store has the **lowest customer count**?\n",
    "# 10. Is there any store where **high sales do not correspond to high customers**?\n",
    "\n",
    "# ## Inventory & Returns Analysis\n",
    "# 11. What is the **total inventory** across all stores?\n",
    "# 12. Which store has the **highest inventory stock**?\n",
    "# 13. How many stores have **inventory less than 1300 units**?\n",
    "# 14. Which store has the **highest return rate** (returns ÷ inventory)?\n",
    "# 15. Which stores have **returns greater than 15 units**?\n",
    "\n",
    "# ## Sales & Customer Correlation\n",
    "# 16. Is there a **positive correlation** between sales and customers?\n",
    "# 17. Which store has **high customer visits but low sales**?\n",
    "# 18. Which store has **low customers but high sales**?\n",
    "# 19. How many stores have **sales per customer above ₹90**?\n",
    "# 20. Which stores could **benefit from customer acquisition campaigns** (low customers, high inventory)?\n",
    "\n",
    "# ## Profitability & Growth\n",
    "# 21. If profit margin is **20% of sales**, what is the **profit per store**?\n",
    "# 22. Which store has the **highest profit**?\n",
    "# 23. Which store has the **lowest profit**?\n",
    "# 24. If sales increase by **10% next month**, what are the **new sales figures**?\n",
    "# 25. How will **total profit** change with the 10% sales increase?\n",
    "\n",
    "# ## Operational Strategy\n",
    "# 26. Which stores need **inventory restocking** based on sales and current stock?\n",
    "# 27. Which stores show **high returns percentage** and might require **quality checks**?\n",
    "# 28. Which store is the **best performer overall** (sales, customers, inventory turnover)?\n",
    "# 29. Which store is the **worst performer overall**?\n",
    "# 30. Which stores can be considered for **expansion** based on strong sales and customer metrics?"
   ]
  },
  {
   "cell_type": "code",
   "execution_count": 83,
   "id": "3834a11e",
   "metadata": {},
   "outputs": [
    {
     "data": {
      "text/plain": [
       "np.int64(335000)"
      ]
     },
     "execution_count": 83,
     "metadata": {},
     "output_type": "execute_result"
    }
   ],
   "source": [
    "# 1. What is the **total revenue** generated across all stores?\n",
    "revenue=rd[:,1].sum()\n",
    "revenue\n"
   ]
  },
  {
   "cell_type": "code",
   "execution_count": 28,
   "id": "4751bc85",
   "metadata": {},
   "outputs": [
    {
     "data": {
      "text/plain": [
       "np.int64(9)"
      ]
     },
     "execution_count": 28,
     "metadata": {},
     "output_type": "execute_result"
    }
   ],
   "source": [
    "# 2. Which store recorded the **highest sales**?\n",
    "highest_sales=rd[:,1].argmax()+1\n",
    "highest_sales"
   ]
  },
  {
   "cell_type": "code",
   "execution_count": 29,
   "id": "1c8d15d9",
   "metadata": {},
   "outputs": [
    {
     "data": {
      "text/plain": [
       "np.int64(1)"
      ]
     },
     "execution_count": 29,
     "metadata": {},
     "output_type": "execute_result"
    }
   ],
   "source": [
    "# 3. Which store recorded the **lowest sales**?\n",
    "lowest_sales=rd[:,1].argmin()+1\n",
    "lowest_sales"
   ]
  },
  {
   "cell_type": "code",
   "execution_count": 13,
   "id": "b47454a5",
   "metadata": {},
   "outputs": [
    {
     "data": {
      "text/plain": [
       "np.float64(3350.0)"
      ]
     },
     "execution_count": 13,
     "metadata": {},
     "output_type": "execute_result"
    }
   ],
   "source": [
    "# 4. What is the **average daily sales** per store?\n",
    "avg_sales=rd[:,1].mean()/10\n",
    "avg_sales"
   ]
  },
  {
   "cell_type": "code",
   "execution_count": 46,
   "id": "232d99a0",
   "metadata": {},
   "outputs": [
    {
     "data": {
      "text/plain": [
       "array([4, 7, 9])"
      ]
     },
     "execution_count": 46,
     "metadata": {},
     "output_type": "execute_result"
    }
   ],
   "source": [
    "# 5. How many stores achieved sales **above ₹35,000**?\n",
    "above=rd[rd[:,1]>35000]\n",
    "above[:,0]\n"
   ]
  },
  {
   "cell_type": "code",
   "execution_count": 35,
   "id": "884bf4be",
   "metadata": {},
   "outputs": [
    {
     "data": {
      "text/plain": [
       "np.int64(9)"
      ]
     },
     "execution_count": 35,
     "metadata": {},
     "output_type": "execute_result"
    }
   ],
   "source": [
    "#  6. Which store had the **highest customer footfall**?\n",
    "C=rd[:,2].argmax()+1\n",
    "C\n"
   ]
  },
  {
   "cell_type": "code",
   "execution_count": 76,
   "id": "37ec2000",
   "metadata": {},
   "outputs": [
    {
     "data": {
      "text/plain": [
       "np.float64(42.5)"
      ]
     },
     "execution_count": 76,
     "metadata": {},
     "output_type": "execute_result"
    }
   ],
   "source": [
    "# 7. What is the **average number of customers** per store?\n",
    "avgper_cust=rd[:,2].mean()/10\n",
    "avgper_cust"
   ]
  },
  {
   "cell_type": "code",
   "execution_count": 39,
   "id": "6b2fabb9",
   "metadata": {},
   "outputs": [
    {
     "data": {
      "text/plain": [
       "(3, 5)"
      ]
     },
     "execution_count": 39,
     "metadata": {},
     "output_type": "execute_result"
    }
   ],
   "source": [
    "# 8. How many stores have **more than 450 customers**?\n",
    "more=rd[rd[:,2]>450].shape\n",
    "more\n"
   ]
  },
  {
   "cell_type": "code",
   "execution_count": 40,
   "id": "d05c5b65",
   "metadata": {},
   "outputs": [
    {
     "data": {
      "text/plain": [
       "np.int64(1)"
      ]
     },
     "execution_count": 40,
     "metadata": {},
     "output_type": "execute_result"
    }
   ],
   "source": [
    "# 9. Which store has the **lowest customer count**?\n",
    "lowest=rd[:,2].argmin()+1\n",
    "lowest"
   ]
  },
  {
   "cell_type": "code",
   "execution_count": null,
   "id": "e80700e3",
   "metadata": {},
   "outputs": [],
   "source": [
    "# 10. Is there any store where **high sales do not correspond to high customers**?\n"
   ]
  },
  {
   "cell_type": "code",
   "execution_count": 41,
   "id": "0f6faa72",
   "metadata": {},
   "outputs": [
    {
     "data": {
      "text/plain": [
       "np.int64(14300)"
      ]
     },
     "execution_count": 41,
     "metadata": {},
     "output_type": "execute_result"
    }
   ],
   "source": [
    "# 11. What is the **total inventory** across all stores?\n",
    "total_inventry=rd[:,3].sum()\n",
    "total_inventry"
   ]
  },
  {
   "cell_type": "code",
   "execution_count": 43,
   "id": "61a4279f",
   "metadata": {},
   "outputs": [
    {
     "data": {
      "text/plain": [
       "np.int64(9)"
      ]
     },
     "execution_count": 43,
     "metadata": {},
     "output_type": "execute_result"
    }
   ],
   "source": [
    "# 12. Which store has the **highest inventory stock**?\n",
    "higgest_inventry=rd[:,3].argmax()+1\n",
    "higgest_inventry"
   ]
  },
  {
   "cell_type": "code",
   "execution_count": 45,
   "id": "ba1f6204",
   "metadata": {},
   "outputs": [
    {
     "data": {
      "text/plain": [
       "array([1, 3, 8])"
      ]
     },
     "execution_count": 45,
     "metadata": {},
     "output_type": "execute_result"
    }
   ],
   "source": [
    "# 13. How many stores have **inventory less than 1300 units**?\n",
    "lowest_in=rd[rd[:,3]<1300]\n",
    "lowest_in[:,0]"
   ]
  },
  {
   "cell_type": "code",
   "execution_count": 47,
   "id": "cb329a39",
   "metadata": {},
   "outputs": [
    {
     "data": {
      "text/plain": [
       "np.int64(9)"
      ]
     },
     "execution_count": 47,
     "metadata": {},
     "output_type": "execute_result"
    }
   ],
   "source": [
    "# 14. Which store has the **highest return rate** (returns ÷ inventory)?\n",
    "higgest_return=(rd[:,4]/rd[:,3]).argmax()+1\n",
    "higgest_inventry\n"
   ]
  },
  {
   "cell_type": "code",
   "execution_count": 92,
   "id": "8d519337",
   "metadata": {},
   "outputs": [
    {
     "data": {
      "text/plain": [
       "array([4, 7, 9])"
      ]
     },
     "execution_count": 92,
     "metadata": {},
     "output_type": "execute_result"
    }
   ],
   "source": [
    "# 15. Which stores have **returns greater than 15 units**?\n",
    "return_greater=rd[rd[:,4]>15]\n",
    "return_greater[:,0]"
   ]
  },
  {
   "cell_type": "code",
   "execution_count": 51,
   "id": "50bcebf0",
   "metadata": {},
   "outputs": [
    {
     "data": {
      "text/plain": [
       "np.float64(1.0)"
      ]
     },
     "execution_count": 51,
     "metadata": {},
     "output_type": "execute_result"
    }
   ],
   "source": [
    "# 16. Is there a **positive correlation** between sales and customers?\n",
    "corr=np.corrcoef(rd[:,1]/rd[:,2])\n",
    "corr"
   ]
  },
  {
   "cell_type": "code",
   "execution_count": null,
   "id": "d8aa136a",
   "metadata": {},
   "outputs": [],
   "source": [
    "# 17. Which store has **high customer visits but low sales**?\n"
   ]
  },
  {
   "cell_type": "code",
   "execution_count": null,
   "id": "77bd114b",
   "metadata": {},
   "outputs": [],
   "source": [
    "# 18. Which store has **low customers but high sales**?"
   ]
  },
  {
   "cell_type": "code",
   "execution_count": 103,
   "id": "a448f68b",
   "metadata": {},
   "outputs": [
    {
     "data": {
      "text/plain": [
       "array([], dtype=float64)"
      ]
     },
     "execution_count": 103,
     "metadata": {},
     "output_type": "execute_result"
    }
   ],
   "source": [
    "# 19. How many stores have **sales per customer above ₹90**?\n",
    "H=rd[:,1]/rd[:,2]\n",
    "H[H>90]\n"
   ]
  },
  {
   "cell_type": "code",
   "execution_count": null,
   "id": "84efb93e",
   "metadata": {},
   "outputs": [],
   "source": []
  },
  {
   "cell_type": "code",
   "execution_count": null,
   "id": "1d88e59a",
   "metadata": {},
   "outputs": [],
   "source": []
  }
 ],
 "metadata": {
  "kernelspec": {
   "display_name": "Python 3",
   "language": "python",
   "name": "python3"
  },
  "language_info": {
   "codemirror_mode": {
    "name": "ipython",
    "version": 3
   },
   "file_extension": ".py",
   "mimetype": "text/x-python",
   "name": "python",
   "nbconvert_exporter": "python",
   "pygments_lexer": "ipython3",
   "version": "3.13.1"
  }
 },
 "nbformat": 4,
 "nbformat_minor": 5
}
